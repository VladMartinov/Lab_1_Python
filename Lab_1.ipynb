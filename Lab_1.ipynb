{
 "cells": [
  {
   "cell_type": "code",
   "execution_count": 1,
   "id": "1c5fd12d",
   "metadata": {},
   "outputs": [
    {
     "name": "stdout",
     "output_type": "stream",
     "text": [
      "Введите число: 12.5\n",
      "12 руб. 50 коп.\n"
     ]
    }
   ],
   "source": [
    "'''\n",
    "Напишите скрипт, который преобразует введенное с клавиатуры\n",
    "вещественное число в денежный формат. Например, число 12,5 должно\n",
    "быть преобразовано к виду «12 руб. 50 коп.». В случае ввода\n",
    "отрицательного числа выдайте сообщение «Некорректный формат!»\n",
    "путем обработки исключения в коде.\n",
    "'''\n",
    "\n",
    "import math \n",
    "\n",
    "def get_number():\n",
    "    while True:\n",
    "        try:\n",
    "            num = float(input(\"Введите число: \"))\n",
    "            return num\n",
    "        except ValueError:\n",
    "            print(\"Вы ввели не число. Повторите ввод\")\n",
    "\n",
    "num = get_number()\n",
    "            \n",
    "try:\n",
    "    if num < 0:\n",
    "        raise Exception('Num must be less than 0')\n",
    "    else:\n",
    "        print(f\"{math.trunc(num)} руб. {math.trunc((num%1)*100)} коп.\")\n",
    "except Exception:\n",
    "    raise"
   ]
  },
  {
   "cell_type": "code",
   "execution_count": 2,
   "id": "081b390e",
   "metadata": {},
   "outputs": [
    {
     "name": "stdout",
     "output_type": "stream",
     "text": [
      "Result#1:  False\n",
      "Result#2:  True\n"
     ]
    }
   ],
   "source": [
    "'''\n",
    "Написать скрипт, который выводит на экран «True», если элементы\n",
    "программно задаваемого списка представляют собой возрастающую\n",
    "последовательность, иначе – «False».\n",
    "'''\n",
    "\n",
    "arrayFirst = [0, 42, 64, 25, 1232, 43536]\n",
    "arraySecond = [i for i in range(25)]\n",
    "\n",
    "def ascendingTest(array):\n",
    "    for i in range(len(array)-1):\n",
    "            if array[i+1] < array[i]:\n",
    "                  return \"False\"\n",
    "    return \"True\"\n",
    "                \n",
    "print(\"Result#1: \",ascendingTest(arrayFirst))\n",
    "print(\"Result#2: \",ascendingTest(arraySecond))"
   ]
  },
  {
   "cell_type": "code",
   "execution_count": 3,
   "id": "e1435c21",
   "metadata": {},
   "outputs": [
    {
     "name": "stdout",
     "output_type": "stream",
     "text": [
      "Введите число: 5123495348521212\n",
      "5123 **** **** 1212\n"
     ]
    }
   ],
   "source": [
    "'''\n",
    "Напишите скрипт, который позволяет ввести с клавиатуры номер\n",
    "дебетовой карты (16 цифр) и выводит номер в скрытом виде: первые и\n",
    "последние 4 цифры отображены нормально, а между ними – символы\n",
    "«*» (например, 5123 **** **** 1212).\n",
    "'''\n",
    "\n",
    "def get_number():\n",
    "    while True:\n",
    "        try:\n",
    "            num = int(input(\"Введите число: \"))\n",
    "            return num\n",
    "        except ValueError:\n",
    "            print(\"Вы ввели не число. Повторите ввод\")\n",
    "\n",
    "numCard = str(get_number())\n",
    "\n",
    "try:\n",
    "    if len(numCard) != 16 or int(numCard) < 0:\n",
    "        print(len(numCard))\n",
    "        raise Exception('Incorrect format')\n",
    "    else:\n",
    "        print(f'{numCard[:4]} **** **** {numCard[-4:]}')\n",
    "except Exception:\n",
    "    raise"
   ]
  },
  {
   "cell_type": "code",
   "execution_count": 4,
   "id": "6916762c",
   "metadata": {},
   "outputs": [
    {
     "name": "stdout",
     "output_type": "stream",
     "text": [
      "[x >= 7] traitors\n",
      "[4 <= x <= 7] Hello\n",
      "[4 <= x <= 7] world\n",
      "[4 <= x <= 7] doubts\n",
      "[4 <= x <= 7] They\n",
      "[4 <= x <= 7] make\n",
      "[4 <= x <= 7] lose\n",
      "[4 <= x <= 7] what\n",
      "[4 <= x <= 7] might\n",
      "[4 <= x <= 7] have\n",
      "[4 <= x <= 7] hadnt\n",
      "[4 <= x <= 7] been\n",
      "[4 <= x <= 7] afraid\n",
      "[4 > x] our\n",
      "[4 > x] are\n",
      "[4 > x] our\n",
      "[4 > x] us\n",
      "[4 > x] we\n",
      "[4 > x] won\n",
      "[4 > x] if\n",
      "[4 > x] we\n",
      "[4 > x] to\n",
      "[4 > x] try\n"
     ]
    }
   ],
   "source": [
    "'''\n",
    "Напишите скрипт, который разделяет введенный с клавиатуры текст на\n",
    "слова и выводит сначала те слова, длина которых превосходит 7\n",
    "символов, затем слова размером от 4 до 7 символов, затем – все\n",
    "остальные.\n",
    "'''\n",
    "\n",
    "line = \"Hello world, our doubts are our traitors. They make us lose what we might have won if we hadn't been afraid to try.\"\n",
    "separators = [ \"!\", \"\\\"\", \"#\", \"$\", \"%\", \"&\", \"'\", \"(\", \")\", \"*\", \"+\", \",\", \n",
    "               \"-\", \".\", \"/\", \":\", \";\", \"<\", \"=\", \">\", \"?\", \"@\", \"[\", \"\\\\\", \n",
    "                \"]\", \"^\", \"_\", \"`\", \"{\", \"|\", \"}\", \"~\"]\n",
    "\n",
    "for sep in separators:\n",
    "    line = line.replace(sep,'')\n",
    "    \n",
    "arraySplit = line.split(\" \")\n",
    "\n",
    "for i in range(3):\n",
    "    for j in range(len(arraySplit)):\n",
    "        if len(arraySplit[j]) > 7 and i == 0:\n",
    "            print(f\"[x >= 7] {arraySplit[j]}\")\n",
    "        elif len(arraySplit[j]) <= 7 and len(arraySplit[j]) >= 4 and i == 1:\n",
    "            print(f\"[4 <= x <= 7] {arraySplit[j]}\")\n",
    "        elif len(arraySplit[j]) < 4 and i == 2:\n",
    "            print(f\"[4 > x] {arraySplit[j]}\")"
   ]
  },
  {
   "cell_type": "code",
   "execution_count": 5,
   "id": "cd344065",
   "metadata": {},
   "outputs": [
    {
     "name": "stdout",
     "output_type": "stream",
     "text": [
      "Write any suggestion: город Донецк, река Кальмиус\n",
      "город ДОНЕЦК, река КАЛЬМИУС\n"
     ]
    }
   ],
   "source": [
    "'''\n",
    "Напишите скрипт, который позволяет ввести с клавиатуры текст\n",
    "предложения и сформировать новую строку на основе исходной, в\n",
    "которой все слова, начинающиеся с большой буквы, приведены к\n",
    "верхнему регистру. Слова могут разделяться запятыми или пробелами.\n",
    "Например, если пользователь введет строку «город Донецк, река\n",
    "Кальмиус», результирующая строка должна выглядеть так: «город\n",
    "ДОНЕЦК, река КАЛЬМИУС».\n",
    "'''\n",
    "\n",
    "separators = [ \"!\", \"\\\"\", \"#\", \"$\", \"%\", \"&\", \"'\", \"(\", \")\", \"*\", \"+\", \",\", \n",
    "               \"-\", \".\", \"/\", \":\", \";\", \"<\", \"=\", \">\", \"?\", \"@\", \"[\", \"\\\\\", \n",
    "                \"]\", \"^\", \"_\", \"`\", \"{\", \"|\", \"}\", \"~\"]\n",
    "\n",
    "line = input('Write any suggestion: ')\n",
    "lineSplited = line.split(' ')\n",
    "\n",
    "\n",
    "for i in range(len(lineSplited)):\n",
    "    for j in range(len(lineSplited[i])):\n",
    "        if not lineSplited[i][j] in separators:\n",
    "            if lineSplited[i][j] == lineSplited[i][j].upper():\n",
    "                lineSplited[i] = lineSplited[i].upper()\n",
    "                break\n",
    "            else:\n",
    "                break\n",
    "            \n",
    "line = \"\"\n",
    "\n",
    "for i in range(len(lineSplited)):\n",
    "    if i != len(lineSplited)-1:\n",
    "        line += lineSplited[i] + \" \"\n",
    "    else:\n",
    "        line += lineSplited[i]\n",
    "        \n",
    "print(line)"
   ]
  },
  {
   "cell_type": "code",
   "execution_count": 7,
   "id": "6e2026a6",
   "metadata": {},
   "outputs": [
    {
     "name": "stdout",
     "output_type": "stream",
     "text": [
      "Write any suggestion: город Донецк, река Кальмиус\n",
      "г о р д   Д н е ц к , а К л ь м и у с "
     ]
    }
   ],
   "source": [
    "'''\n",
    "Напишите программу, позволяющую ввести с клавиатуры текст\n",
    "предложения и вывести на консоль все символы, которые входят в этот\n",
    "текст ровно по одному разу.\n",
    "'''\n",
    "\n",
    "line = input('Write any suggestion: ')\n",
    "wordsInLine = []\n",
    "\n",
    "for i in range(len(line)):\n",
    "    if not line[i] in wordsInLine:\n",
    "        wordsInLine.append(line[i])\n",
    "        \n",
    "for i in wordsInLine:\n",
    "    print(i + \" \", end=\"\")"
   ]
  },
  {
   "cell_type": "code",
   "execution_count": 8,
   "id": "63c1179f",
   "metadata": {},
   "outputs": [
    {
     "name": "stdout",
     "output_type": "stream",
     "text": [
      "http://www.goodSon.gr.com\n",
      "wwg.goodSon.co.com\n",
      "bswww.goodSon.com\n",
      "GooswwwdSon.gr.com\n",
      "http://www.badSon.gr.com\n",
      "dseee.wwwgfdd.com\n"
     ]
    }
   ],
   "source": [
    "'''\n",
    "Напишите скрипт, который обрабатывает список строк-адресов\n",
    "следующим образом: сначала определяет, начинается ли каждая строка\n",
    "в списке с префикса «www». Если условие выполняется, то скрипт\n",
    "должен вставить в начало этой строки префикс «http://», а затем\n",
    "проверить, что строка заканчивается на «.com». Если у строки другое\n",
    "окончание, то скрипт должен вставить в конец подстроку «.com». В\n",
    "итоге скрипт должен вывести на консоль новый список с измененными\n",
    "адресами. Используйте генераторы списков.\n",
    "'''\n",
    "\n",
    "arrayLink = [   '  www.goodSon.gr', ' wwg.goodSon.co', '  bswww.goodSon.com   ',\n",
    "                '  GooswwwdSon.gr', '  www . badSon.gr', ' dseee. www gfdd.co m']\n",
    "\n",
    "for i in range(len(arrayLink)):\n",
    "    arrayLink[i] = arrayLink[i].replace(' ','')\n",
    "    if arrayLink[i][:4] == \"www.\":\n",
    "        arrayLink[i] = \"http://\" + arrayLink[i]\n",
    "    if arrayLink[i][-4:] != \".com\":\n",
    "        arrayLink[i] = arrayLink[i] + \".com\"\n",
    "    \n",
    "for i in arrayLink:\n",
    "    print(i)"
   ]
  },
  {
   "cell_type": "code",
   "execution_count": 9,
   "id": "61b225be",
   "metadata": {},
   "outputs": [
    {
     "name": "stdout",
     "output_type": "stream",
     "text": [
      "Range 'ArrayNum': 4096\n",
      "Cuurent degree: 2^12 = 4096\n"
     ]
    }
   ],
   "source": [
    "'''\n",
    "Напишите скрипт, генерирующий случайным образом число n в\n",
    "диапазоне от 1 до 10000. Скрипт должен создать массив из n целых\n",
    "чисел, также сгенерированных случайным образом, и дополнить\n",
    "массив нулями до размера, равного ближайшей сверху степени двойки.\n",
    "Например, если в массиве было n=100 элементов, то массив нужно\n",
    "дополнить 28 нулями, чтобы в итоге был массив из 28=128 элементов\n",
    "(ближайшая степень двойки к 100 – это число 128, к 35 – это 64 и т.д.).\n",
    "'''\n",
    "\n",
    "import random\n",
    "from itertools import repeat\n",
    "\n",
    "num = random.randint(1,10000)\n",
    "arrayNum = [random.randint(0, 10000) for i in range(num)]\n",
    "degree = 0\n",
    "\n",
    "while True:\n",
    "    degree += 1\n",
    "    if len(arrayNum) < 2**degree and len(arrayNum) > 2**(degree-1):\n",
    "        arrayZero = list(repeat(0, (2**degree)-len(arrayNum)))\n",
    "        arrayNum.extend(arrayZero) \n",
    "        break\n",
    "\n",
    "print(\"Range 'ArrayNum': \" + str(len(arrayNum)))\n",
    "print(f\"Cuurent degree: 2^{degree} = {2**degree}\")"
   ]
  },
  {
   "cell_type": "code",
   "execution_count": 10,
   "id": "2c3a5029",
   "metadata": {},
   "outputs": [
    {
     "name": "stdout",
     "output_type": "stream",
     "text": [
      "Введите желаемую сумму: 5370\n",
      "«5000*1 + 2000*0 + 1000*0 + 100*3 + 50*1 + 10*2»\n"
     ]
    }
   ],
   "source": [
    "'''\n",
    "Напишите программу, имитирующую работу банкомата. Выберите\n",
    "структуру данных для хранения купюр разного достоинства в заданном\n",
    "количестве. При вводе пользователем запрашиваемой суммы денег,\n",
    "скрипт должен вывести на консоль количество купюр подходящего\n",
    "достоинства. Если имеющихся денег не хватает, то необходимо\n",
    "напечатать сообщение «Операция не может быть выполнена!».\n",
    "Например, при сумме 5370 рублей на консоль должно быть выведено\n",
    "«5*1000 + 3*100 + 1*50 + 2*10».\n",
    "'''\n",
    "\n",
    "def get_number():\n",
    "    while True:\n",
    "        try:\n",
    "            num = int(input(\"Введите желаемую сумму: \"))\n",
    "            return num\n",
    "        except ValueError:\n",
    "            print(\"Вы ввели не число. Повторите ввод\")\n",
    "\n",
    "bankMoney = 500000\n",
    "moneyIssued = get_number()\n",
    "\n",
    "if bankMoney <= moneyIssued or moneyIssued%10 > 0:\n",
    "    print(\"Операция не может быть выполнена!\")\n",
    "    sys.exit()\n",
    "\n",
    "arrayExistingBills = [5000, 2000, 1000, 100, 50, 10]\n",
    "arrayCountBills = []\n",
    "\n",
    "for i in arrayExistingBills:\n",
    "    if int(moneyIssued/i) > 0:\n",
    "        arrayCountBills.append(int(moneyIssued/i))\n",
    "        moneyIssued -= (i*int(moneyIssued/i))\n",
    "    else:\n",
    "        arrayCountBills.append(0)\n",
    "\n",
    "print(\"«\", end=\"\")\n",
    "for i in range(len(arrayCountBills)):\n",
    "    if i+1 == len(arrayCountBills):\n",
    "        print(f\"{arrayExistingBills[i]}*{arrayCountBills[i]}\", end=\"\")\n",
    "    else:\n",
    "        print(f\"{arrayExistingBills[i]}*{arrayCountBills[i]} + \", end=\"\")\n",
    "    \n",
    "    \n",
    "print(\"»\")"
   ]
  },
  {
   "cell_type": "code",
   "execution_count": 11,
   "id": "8c3d9e7b",
   "metadata": {},
   "outputs": [
    {
     "name": "stdout",
     "output_type": "stream",
     "text": [
      "Enter the new password: ProgramminG2023@\n",
      "You password have level: 4\n"
     ]
    }
   ],
   "source": [
    "'''\n",
    "Напишите скрипт, позволяющий определить надежность вводимого\n",
    "пользователем пароля. Это задание является творческим: алгоритм\n",
    "определения надежности разработайте самостоятельно.\n",
    "'''\n",
    "\n",
    "import re\n",
    "\n",
    "def passTest(password: str) -> int:\n",
    "    levelPass = 0\n",
    "    if len(password) > 8:\n",
    "        levelPass += 1\n",
    "    if re.search(r'[a-z]', password) and re.search(r'[A-Z]', password):\n",
    "        levelPass += 1\n",
    "    if re.search(r'\\d', password):\n",
    "        levelPass += 1\n",
    "    if re.search(r'\\W', password):\n",
    "        levelPass += 1\n",
    "    return levelPass\n",
    "\n",
    "password = input(\"Enter the new password: \")\n",
    "\n",
    "print(f\"You password have level: {passTest(password)}\")"
   ]
  },
  {
   "cell_type": "code",
   "execution_count": 12,
   "id": "ac6d750f",
   "metadata": {},
   "outputs": [
    {
     "name": "stdout",
     "output_type": "stream",
     "text": [
      "1\n",
      "1.1\n",
      "1.2\n",
      "1.3\n",
      "1.4\n",
      "1.5\n",
      "1.6\n",
      "1.7\n",
      "1.8\n",
      "1.9\n",
      "2.0\n",
      "2.1\n",
      "2.2\n",
      "2.3\n",
      "2.4\n",
      "2.5\n",
      "2.6\n",
      "2.7\n",
      "2.8\n",
      "2.9\n",
      "3.0\n",
      "3.1\n",
      "3.2\n",
      "3.3\n",
      "3.4\n",
      "3.5\n",
      "3.6\n",
      "3.7\n",
      "3.8\n",
      "3.9\n",
      "4.0\n",
      "4.1\n",
      "4.2\n",
      "4.3\n",
      "4.4\n",
      "4.5\n",
      "4.6\n",
      "4.7\n",
      "4.8\n",
      "4.9\n"
     ]
    }
   ],
   "source": [
    "'''\n",
    "Напишите генератор frange как аналог range() с дробным шагом.\n",
    "Пример вызова:\n",
    "for x in frange(1, 5, 0.1):\n",
    "print(x)\n",
    "# выводит 1 1.1 1.2 1.3 1.4 … 4.9\n",
    "'''\n",
    "\n",
    "def frange(startNum, endNum, _range):\n",
    "    resultArray = [startNum]\n",
    "    countIter = 0\n",
    "    \n",
    "    for i in resultArray:\n",
    "        inmedResult = resultArray[countIter]+_range \n",
    "        if inmedResult < endNum:\n",
    "            inmedResult = float((\"{:.1f}\".format(inmedResult)))\n",
    "            resultArray.append(inmedResult)\n",
    "            countIter += 1\n",
    "        else:\n",
    "            return resultArray\n",
    "\n",
    "for x in frange(1, 5, 0.1):\n",
    "    print(x)"
   ]
  },
  {
   "cell_type": "code",
   "execution_count": 14,
   "id": "129b456a",
   "metadata": {},
   "outputs": [
    {
     "name": "stdout",
     "output_type": "stream",
     "text": [
      "[0, 1, 2, 3]\n",
      "[4, 5, 6, 7]\n",
      "[8, 9, 10, 11]\n"
     ]
    }
   ],
   "source": [
    "'''\n",
    "Напишите генератор get_frames(), который производит «оконную\n",
    "декомпозицию» сигнала: на основе входного списка генерирует набор\n",
    "списков – перекрывающихся отдельных фрагментов сигнала размера\n",
    "size со степенью перекрытия overlap. Пример вызова:\n",
    "for frame in get_frames(signal, size=1024, overlap=0.5):\n",
    "    print(frame)\n",
    "'''\n",
    "\n",
    "signal = [x for x in range(12)]\n",
    "\n",
    "def get_frames(signal, size, overlap):\n",
    "    size *= overlap\n",
    "    start = 0\n",
    "    end = int(size)\n",
    "    \n",
    "    while end<=len(signal):\n",
    "        frame = signal[start:end]\n",
    "        yield frame # Возвращает по частям\n",
    "        start += int(size)\n",
    "        end += int(size)\n",
    "        \n",
    "for frame in get_frames (signal, size = 8, overlap = 0.5):\n",
    "    print (frame)"
   ]
  },
  {
   "cell_type": "code",
   "execution_count": 15,
   "id": "f5be0998",
   "metadata": {},
   "outputs": [
    {
     "name": "stdout",
     "output_type": "stream",
     "text": [
      "(1, 1, 0.1) (3, 4, 0.4) (4, 8, 0.8) (2, 10, 1.0) "
     ]
    }
   ],
   "source": [
    "'''\n",
    "Напишите собственную версию генератора enumerate под названием\n",
    "extra_enumerate. Пример вызова:\n",
    "for i, elem, cum, frac in extra_enumerate(x):\n",
    "    print(elem, cum, frac)\n",
    "В переменной cum хранится накопленная сумма на момент текущей\n",
    "итерации, в переменной frac – доля накопленной суммы от общей\n",
    "суммы на момент текущей итерации. Например, для списка x=[1,3,4,2]\n",
    "вывод будет таким:\n",
    "(1, 1, 0.1) (3, 4, 0.4) (4, 8, 0.8) (2, 10, 1)\n",
    "'''\n",
    "\n",
    "def extra_ennymerate(x):\n",
    "    total = sum(x)\n",
    "    cum=0\n",
    "    for i in range(len(x)):\n",
    "        elem = x[i]\n",
    "        cum += x[i]\n",
    "        frac = cum/total\n",
    "        yield i, elem , cum , frac\n",
    "\n",
    "x = [1, 3, 4, 2]\n",
    "        \n",
    "for i, elem, cum, frac in extra_ennymerate(x):\n",
    "    print(f\"({elem}, {cum}, {frac}) \", end=\"\")"
   ]
  },
  {
   "cell_type": "code",
   "execution_count": 16,
   "id": "8231de45",
   "metadata": {},
   "outputs": [
    {
     "name": "stdout",
     "output_type": "stream",
     "text": [
      "['chapter1', 'contents', 'line1']\n"
     ]
    }
   ],
   "source": [
    "'''\n",
    "Напишите декоратор non_empty, который дополнительно проверяет\n",
    "списковый результат любой функции: если в нем содержатся пустые\n",
    "строки или значение None, то они удаляются. Пример кода:\n",
    "@non_empty\n",
    "def get_pages():\n",
    "    return ['chapter1', '', 'contents', '', 'line1']\n",
    "'''\n",
    "\n",
    "def non_empty(func):\n",
    "    def _result():\n",
    "        test_return = func()\n",
    "        result_return = []\n",
    "        for i in test_return:\n",
    "            if not i == \"\" and not i is None:\n",
    "                result_return.append(i)\n",
    "        return result_return\n",
    "    \n",
    "    return _result\n",
    "\n",
    "# декорируем функцию\n",
    "@non_empty\n",
    "def get_pages():\n",
    "    return ['chapter1', '', 'contents', '', 'line1', \"\"]\n",
    "\n",
    "print(get_pages())"
   ]
  },
  {
   "cell_type": "code",
   "execution_count": 17,
   "id": "862f4a18",
   "metadata": {},
   "outputs": [
    {
     "name": "stdout",
     "output_type": "stream",
     "text": [
      "-8.37\n",
      "8.784\n",
      "-6.169\n",
      "8.737\n",
      "-4.125\n",
      "8.836\n",
      "-2.217\n",
      "9.062\n",
      "-0.428\n",
      "9.398\n"
     ]
    }
   ],
   "source": [
    "'''\n",
    "Напишите параметризированный декоратор pre_process, который\n",
    "осуществляет предварительную обработку (цифровую фильтрацию)\n",
    "списка по алгоритму: s[i] = s[i]–a∙s[i–1]. Параметр а можно задать в\n",
    "коде (по умолчанию равен 0.97). Пример кода:\n",
    "@pre_process(a=0.93)\n",
    "def plot_signal(s):\n",
    "for sample in s:\n",
    "print(sample)\n",
    "'''\n",
    "\n",
    "def pre_process(a=0.97):\n",
    "    def deckor(func):\n",
    "        def wrapper(s):\n",
    "            for i in range(len(s)):\n",
    "                s[i] = float(str(\"{:.3f}\").format(s[i]- a * s[i - 1]))\n",
    "            func(s)\n",
    "        return wrapper\n",
    "    return deckor\n",
    "\n",
    "@pre_process(a=0.93)\n",
    "def plot_signal(s):\n",
    "    for sample in s:\n",
    "        print(sample)\n",
    "        \n",
    "signal = [x for x in range(10)]\n",
    "plot_signal(signal)"
   ]
  },
  {
   "cell_type": "code",
   "execution_count": 5,
   "id": "004323c7",
   "metadata": {},
   "outputs": [
    {
     "name": "stdout",
     "output_type": "stream",
     "text": [
      "\n",
      "1 group:\n",
      "Everton FC vs Aston Villa FC                      . Date: 14/09/2023, 22:45\n",
      "Everton FC vs Chelsea FC                          . Date: 28/09/2023, 22:45\n",
      "Everton FC vs Liverpool FC                        . Date: 13/10/2023, 00:55\n",
      "Aston Villa FC vs Chelsea FC                      . Date: 27/10/2023, 05:15\n",
      "Aston Villa FC vs Liverpool FC                    . Date: 10/11/2023, 11:45\n",
      "Chelsea FC vs Liverpool FC                        . Date: 24/11/2023, 20:25\n",
      "\n",
      "2 group:\n",
      "Burnley FC vs Wolverhampton Wanderers FC          . Date: 09/12/2023, 07:15\n",
      "Burnley FC vs Leicester City FC                   . Date: 23/12/2023, 19:15\n",
      "Burnley FC vs Manchester United FC                . Date: 07/01/2024, 09:25\n",
      "Wolverhampton Wanderers FC vs Leicester City FC   . Date: 22/01/2024, 01:45\n",
      "Wolverhampton Wanderers FC vs Manchester United FC. Date: 05/02/2024, 20:15\n",
      "Leicester City FC vs Manchester United FC         . Date: 20/02/2024, 16:55\n",
      "\n",
      "3 group:\n",
      "Fulham FC vs Tottenham Hotspur FC                 . Date: 06/03/2024, 15:45\n",
      "Fulham FC vs Manchester City FC                   . Date: 20/03/2024, 15:45\n",
      "Fulham FC vs Crystal Palace FC                    . Date: 03/04/2024, 17:55\n",
      "Tottenham Hotspur FC vs Manchester City FC        . Date: 17/04/2024, 22:15\n",
      "Tottenham Hotspur FC vs Crystal Palace FC         . Date: 02/05/2024, 04:45\n",
      "Manchester City FC vs Crystal Palace FC           . Date: 16/05/2024, 13:25\n",
      "\n",
      "4 group:\n",
      "West Ham United FC vs Leeds United FC             . Date: 31/05/2024, 00:15\n",
      "West Ham United FC vs Arsenal FC                  . Date: 14/06/2024, 12:15\n",
      "West Ham United FC vs Southampton FC              . Date: 29/06/2024, 02:25\n",
      "Leeds United FC vs Arsenal FC                     . Date: 13/07/2024, 18:45\n",
      "Leeds United FC vs Southampton FC                 . Date: 28/07/2024, 13:15\n",
      "Arsenal FC vs Southampton FC                      . Date: 12/08/2024, 09:55\n"
     ]
    }
   ],
   "source": [
    "'''\n",
    "Напишите скрипт, который на основе списка из 16 названий\n",
    "футбольных команд случайным образом формирует 4 группы по 4\n",
    "команды, а также выводит на консоль календарь всех игр (игры\n",
    "должны проходить по средам, раз в 2 недели, начиная с 14 сентября\n",
    "текущего года). Даты игр необходимо выводить в формате «14/09/2016,\n",
    "22:45». Используйте модули random и itertools.\n",
    "'''\n",
    "\n",
    "import numpy as np\n",
    "import random\n",
    "from itertools import combinations \n",
    "import datetime\n",
    "\n",
    "currentTime = datetime.datetime(2023, 9, 14, 22, 45)\n",
    "\n",
    "teams = np.array([\"Burnley FC\", \"Manchester United FC\", \"Manchester City FC\", \"Aston Villa FC\", \"Fulham FC\", \n",
    "         \"Arsenal FC\", \"Crystal Palace FC\", \"Southampton FC\", \"Liverpool FC\",\n",
    "         \"Leeds United FC\", \"West Ham United FC\", \"Leicester City FC\", \"Everton FC\", \"Chelsea FC\",\n",
    "         \"Wolverhampton Wanderers FC\", \"Tottenham Hotspur FC\"])\n",
    "\n",
    "random.shuffle(teams)\n",
    "teams.shape = (4, 4)\n",
    "count = 0\n",
    "\n",
    "for num, team in enumerate(teams, 1):\n",
    "    print(f\"\\n{num} group:\")\n",
    "    \n",
    "    for j in combinations(team, 2):\n",
    "        print((' vs '.join(j)).ljust(50, \" \") + '. Date: ' + currentTime.strftime(\"%d/%m/%Y, %H:%M\"))\n",
    "        currentTime += datetime.timedelta(weeks = 2, hours = (count*2)%24, minutes=(count*10)%60)\n",
    "        count += 1"
   ]
  },
  {
   "cell_type": "code",
   "execution_count": null,
   "id": "8be496fd",
   "metadata": {},
   "outputs": [],
   "source": []
  }
 ],
 "metadata": {
  "kernelspec": {
   "display_name": "Python 3 (ipykernel)",
   "language": "python",
   "name": "python3"
  },
  "language_info": {
   "codemirror_mode": {
    "name": "ipython",
    "version": 3
   },
   "file_extension": ".py",
   "mimetype": "text/x-python",
   "name": "python",
   "nbconvert_exporter": "python",
   "pygments_lexer": "ipython3",
   "version": "3.9.13"
  }
 },
 "nbformat": 4,
 "nbformat_minor": 5
}
